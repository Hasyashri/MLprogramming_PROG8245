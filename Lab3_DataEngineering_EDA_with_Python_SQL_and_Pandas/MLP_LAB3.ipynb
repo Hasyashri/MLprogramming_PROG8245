{
 "cells": [
  {
   "cell_type": "markdown",
   "id": "dd4f9eee",
   "metadata": {},
   "source": [
    "# Lab 3 : Data Engineering & EDA with Python, SQL, and Pandas\n",
    "\n",
    "**Student Name : Hasyashri Bhatt**\n",
    "\n",
    "**Student Number: 9028501**\n",
    "\n",
    "**Course Name: Machine Learning Programming**\n",
    "\n",
    "**Course Code: PROG8245**\n",
    "\n"
   ]
  },
  {
   "cell_type": "markdown",
   "id": "23c05f2f",
   "metadata": {},
   "source": []
  }
 ],
 "metadata": {
  "kernelspec": {
   "display_name": "base",
   "language": "python",
   "name": "python3"
  },
  "language_info": {
   "name": "python",
   "version": "3.12.7"
  }
 },
 "nbformat": 4,
 "nbformat_minor": 5
}
