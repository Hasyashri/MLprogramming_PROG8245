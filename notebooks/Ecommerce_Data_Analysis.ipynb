{
 "cells": [
  {
   "cell_type": "markdown",
   "id": "6570b2b5",
   "metadata": {},
   "source": [
    "# Step 1: Hello, Data!\n",
    "\n",
    "**Load raw CSV, display first 3 rows**"
   ]
  },
  {
   "cell_type": "code",
   "execution_count": 2,
   "id": "afa70bdd",
   "metadata": {},
   "outputs": [],
   "source": [
    "# Importing Libraries to Load synthetic ecommerce dataset with 500 rows\n",
    "\n",
    "import pandas as pd\n",
    "import numpy as np\n"
   ]
  },
  {
   "cell_type": "code",
   "execution_count": 3,
   "id": "35fe179d",
   "metadata": {},
   "outputs": [
    {
     "name": "stdout",
     "output_type": "stream",
     "text": [
      "Dataset loaded successfully!\n"
     ]
    }
   ],
   "source": [
    "# Load the dataset\n",
    "df= pd.read_csv(r'C:\\Users\\habha\\MLprogramming_PROG8245\\Lab2_Ecommerce_Data_Collection_and_Preprocessing\\data\\enhanced_ecommerce_transactions.csv')\n",
    "print(\"Dataset loaded successfully!\")"
   ]
  },
  {
   "cell_type": "code",
   "execution_count": 4,
   "id": "9f9ad61e",
   "metadata": {},
   "outputs": [
    {
     "data": {
      "application/vnd.microsoft.datawrangler.viewer.v0+json": {
       "columns": [
        {
         "name": "index",
         "rawType": "int64",
         "type": "integer"
        },
        {
         "name": "date",
         "rawType": "object",
         "type": "string"
        },
        {
         "name": "customer_id",
         "rawType": "object",
         "type": "string"
        },
        {
         "name": "product",
         "rawType": "object",
         "type": "string"
        },
        {
         "name": "price",
         "rawType": "int64",
         "type": "integer"
        },
        {
         "name": "quantity",
         "rawType": "int64",
         "type": "integer"
        },
        {
         "name": "coupon_code",
         "rawType": "object",
         "type": "string"
        },
        {
         "name": "shipping_city",
         "rawType": "object",
         "type": "string"
        },
        {
         "name": "payment_method",
         "rawType": "object",
         "type": "string"
        },
        {
         "name": "order_status",
         "rawType": "object",
         "type": "string"
        },
        {
         "name": "delivery_date",
         "rawType": "object",
         "type": "string"
        },
        {
         "name": "customer_email",
         "rawType": "object",
         "type": "string"
        }
       ],
       "ref": "776e6412-7f78-4333-b6a7-c48a2a99a125",
       "rows": [
        [
         "0",
         "2024-12-25",
         "9caaf8f0-00d3-4ad3-97ce-3d1eab60a213",
         "Keyboard",
         "30",
         "1",
         "BUY1GET1",
         "New York",
         "Gift Card",
         "Cancelled",
         "2024-12-31",
         "megan06@barber.info"
        ],
        [
         "1",
         "2024-09-29",
         "2ece07de-8e70-4263-a145-98071691c5ca",
         "Smartwatch",
         "200",
         "1",
         "FREESHIP",
         "San Jose",
         "Gift Card",
         "Delivered",
         "2024-10-03",
         "masonleah@yahoo.com"
        ],
        [
         "2",
         "2025-01-24",
         "ed62c7bb-8800-4e3b-a07d-baff7e0eb2e0",
         "Monitor",
         "150",
         "4",
         "FREESHIP",
         "New York",
         "Gift Card",
         "Pending",
         "2025-01-26",
         "tylerjackson@gmail.com"
        ]
       ],
       "shape": {
        "columns": 11,
        "rows": 3
       }
      },
      "text/html": [
       "<div>\n",
       "<style scoped>\n",
       "    .dataframe tbody tr th:only-of-type {\n",
       "        vertical-align: middle;\n",
       "    }\n",
       "\n",
       "    .dataframe tbody tr th {\n",
       "        vertical-align: top;\n",
       "    }\n",
       "\n",
       "    .dataframe thead th {\n",
       "        text-align: right;\n",
       "    }\n",
       "</style>\n",
       "<table border=\"1\" class=\"dataframe\">\n",
       "  <thead>\n",
       "    <tr style=\"text-align: right;\">\n",
       "      <th></th>\n",
       "      <th>date</th>\n",
       "      <th>customer_id</th>\n",
       "      <th>product</th>\n",
       "      <th>price</th>\n",
       "      <th>quantity</th>\n",
       "      <th>coupon_code</th>\n",
       "      <th>shipping_city</th>\n",
       "      <th>payment_method</th>\n",
       "      <th>order_status</th>\n",
       "      <th>delivery_date</th>\n",
       "      <th>customer_email</th>\n",
       "    </tr>\n",
       "  </thead>\n",
       "  <tbody>\n",
       "    <tr>\n",
       "      <th>0</th>\n",
       "      <td>2024-12-25</td>\n",
       "      <td>9caaf8f0-00d3-4ad3-97ce-3d1eab60a213</td>\n",
       "      <td>Keyboard</td>\n",
       "      <td>30</td>\n",
       "      <td>1</td>\n",
       "      <td>BUY1GET1</td>\n",
       "      <td>New York</td>\n",
       "      <td>Gift Card</td>\n",
       "      <td>Cancelled</td>\n",
       "      <td>2024-12-31</td>\n",
       "      <td>megan06@barber.info</td>\n",
       "    </tr>\n",
       "    <tr>\n",
       "      <th>1</th>\n",
       "      <td>2024-09-29</td>\n",
       "      <td>2ece07de-8e70-4263-a145-98071691c5ca</td>\n",
       "      <td>Smartwatch</td>\n",
       "      <td>200</td>\n",
       "      <td>1</td>\n",
       "      <td>FREESHIP</td>\n",
       "      <td>San Jose</td>\n",
       "      <td>Gift Card</td>\n",
       "      <td>Delivered</td>\n",
       "      <td>2024-10-03</td>\n",
       "      <td>masonleah@yahoo.com</td>\n",
       "    </tr>\n",
       "    <tr>\n",
       "      <th>2</th>\n",
       "      <td>2025-01-24</td>\n",
       "      <td>ed62c7bb-8800-4e3b-a07d-baff7e0eb2e0</td>\n",
       "      <td>Monitor</td>\n",
       "      <td>150</td>\n",
       "      <td>4</td>\n",
       "      <td>FREESHIP</td>\n",
       "      <td>New York</td>\n",
       "      <td>Gift Card</td>\n",
       "      <td>Pending</td>\n",
       "      <td>2025-01-26</td>\n",
       "      <td>tylerjackson@gmail.com</td>\n",
       "    </tr>\n",
       "  </tbody>\n",
       "</table>\n",
       "</div>"
      ],
      "text/plain": [
       "         date                           customer_id     product  price  \\\n",
       "0  2024-12-25  9caaf8f0-00d3-4ad3-97ce-3d1eab60a213    Keyboard     30   \n",
       "1  2024-09-29  2ece07de-8e70-4263-a145-98071691c5ca  Smartwatch    200   \n",
       "2  2025-01-24  ed62c7bb-8800-4e3b-a07d-baff7e0eb2e0     Monitor    150   \n",
       "\n",
       "   quantity coupon_code shipping_city payment_method order_status  \\\n",
       "0         1    BUY1GET1      New York      Gift Card    Cancelled   \n",
       "1         1    FREESHIP      San Jose      Gift Card    Delivered   \n",
       "2         4    FREESHIP      New York      Gift Card      Pending   \n",
       "\n",
       "  delivery_date          customer_email  \n",
       "0    2024-12-31     megan06@barber.info  \n",
       "1    2024-10-03     masonleah@yahoo.com  \n",
       "2    2025-01-26  tylerjackson@gmail.com  "
      ]
     },
     "execution_count": 4,
     "metadata": {},
     "output_type": "execute_result"
    }
   ],
   "source": [
    "# Display first 3 rows\n",
    "df.head(3)"
   ]
  },
  {
   "cell_type": "markdown",
   "id": "261132ec",
   "metadata": {},
   "source": [
    "# Step 2: Pick the Right Container\n",
    "\n",
    "**I choose `class` instead of `dict` and `namedtuple` because it allows encapsulating behavior and state together. `Dictonary` lacks structure and `namedtuple` is mutable so limiting data updates.**"
   ]
  },
  {
   "cell_type": "markdown",
   "id": "db014290",
   "metadata": {},
   "source": [
    "# Step 3: Transaction Class and OO data structure\n",
    "\n",
    "**Implement Transaction class and use it t populate an object-oriented data structure**\n",
    "\n",
    "used `copilot` for this below code"
   ]
  },
  {
   "cell_type": "code",
   "execution_count": 5,
   "id": "9d58d85e",
   "metadata": {},
   "outputs": [
    {
     "name": "stdout",
     "output_type": "stream",
     "text": [
      "Transaction(2024-12-25, 9caaf8f0-00d3-4ad3-97ce-3d1eab60a213, Keyboard, 30, 1, BUY1GET1, New York, Gift Card, Cancelled, 2024-12-31, megan06@barber.info)\n",
      "Transaction(2024-09-29, 2ece07de-8e70-4263-a145-98071691c5ca, Smartwatch, 200, 1, FREESHIP, San Jose, Gift Card, Delivered, 2024-10-03, masonleah@yahoo.com)\n",
      "Transaction(2025-01-24, ed62c7bb-8800-4e3b-a07d-baff7e0eb2e0, Monitor, 150, 4, FREESHIP, New York, Gift Card, Pending, 2025-01-26, tylerjackson@gmail.com)\n"
     ]
    }
   ],
   "source": [
    "class Transaction:\n",
    "    \"\"\"Class to represent a single transaction in the ecommerce dataset.\"\"\"\n",
    "    def __init__(self, date, customer_id, product, price, quantity, coupon_code,\n",
    "                 shipping_city, payment_method, order_status, delivery_date, customer_email):\n",
    "        self.date = date\n",
    "        self.customer_id = customer_id\n",
    "        self.product = product\n",
    "        self.price = price\n",
    "        self.quantity = quantity\n",
    "        self.coupon_code = coupon_code\n",
    "        self.shipping_city = shipping_city\n",
    "        self.payment_method = payment_method\n",
    "        self.order_status = order_status\n",
    "        self.delivery_date = delivery_date\n",
    "        self.customer_email = customer_email\n",
    "\n",
    "    def __repr__(self):\n",
    "        return (f\"Transaction({self.date}, {self.customer_id}, {self.product}, \"\n",
    "                f\"{self.price}, {self.quantity}, {self.coupon_code}, {self.shipping_city}, \"\n",
    "                f\"{self.payment_method}, {self.order_status}, {self.delivery_date}, {self.customer_email})\")\n",
    "\n",
    "# Populate a list of Transaction objects from the dataframe\n",
    "\"\"\" This code iterates over each row in the DataFrame and creates a Transaction object for each row, storing them in a list.\"\"\"\n",
    "transactions = [\n",
    "    Transaction(\n",
    "        row['date'],\n",
    "        row['customer_id'],\n",
    "        row['product'],\n",
    "        row['price'],\n",
    "        row['quantity'],\n",
    "        row['coupon_code'],\n",
    "        row['shipping_city'],\n",
    "        row['payment_method'],\n",
    "        row['order_status'],\n",
    "        row['delivery_date'],\n",
    "        row['customer_email']\n",
    "    )\n",
    "    for _, row in df.iterrows()\n",
    "]\n",
    "\n",
    "# Example: print the first 3 transactions\n",
    "for t in transactions[:3]:\n",
    "    print(t)"
   ]
  },
  {
   "cell_type": "markdown",
   "id": "4604d50b",
   "metadata": {},
   "source": [
    "# Step 4: Bulk Loader\n",
    "\n",
    "**load_transactions() returning list ↦ type-hinted**\n",
    "used `copilot` for this code generation"
   ]
  },
  {
   "cell_type": "code",
   "execution_count": 6,
   "id": "6e859b46",
   "metadata": {},
   "outputs": [
    {
     "name": "stdout",
     "output_type": "stream",
     "text": [
      "Transaction(2024-12-25, 9caaf8f0-00d3-4ad3-97ce-3d1eab60a213, Keyboard, 30, 1, BUY1GET1, New York, Gift Card, Cancelled, 2024-12-31, megan06@barber.info)\n",
      "Transaction(2024-09-29, 2ece07de-8e70-4263-a145-98071691c5ca, Smartwatch, 200, 1, FREESHIP, San Jose, Gift Card, Delivered, 2024-10-03, masonleah@yahoo.com)\n",
      "Transaction(2025-01-24, ed62c7bb-8800-4e3b-a07d-baff7e0eb2e0, Monitor, 150, 4, FREESHIP, New York, Gift Card, Pending, 2025-01-26, tylerjackson@gmail.com)\n"
     ]
    }
   ],
   "source": [
    "\"\"\" This code defines a class `Transaction` to represent a single transaction in an ecommerce dataset, initializes it with various attributes, and provides a method to return a string representation of the object. It then loads transactions from a DataFrame into a list of `Transaction` objects.\"\"\"\n",
    "from typing import List\n",
    "\n",
    "\"\"\" Function to load transactions from a DataFrame and return a list of Transaction objects.\"\"\"\n",
    "def load_transactions(df: pd.DataFrame) -> List[Transaction]:\n",
    "    \"\"\"Load transactions from a DataFrame and return a list of Transaction objects.\"\"\"\n",
    "    return [\n",
    "        Transaction(\n",
    "            row['date'],\n",
    "            row['customer_id'],\n",
    "            row['product'],\n",
    "            row['price'],\n",
    "            row['quantity'],\n",
    "            row['coupon_code'],\n",
    "            row['shipping_city'],\n",
    "            row['payment_method'],\n",
    "            row['order_status'],\n",
    "            row['delivery_date'],\n",
    "            row['customer_email']\n",
    "        )\n",
    "        for _, row in df.iterrows()\n",
    "    ]\n",
    "\n",
    "# Example usage:\n",
    "transactions = load_transactions(df)\n",
    "# Print the transactions to verify in table format\n",
    "for t in transactions[:3]:\n",
    "    print(t)"
   ]
  },
  {
   "cell_type": "markdown",
   "id": "04fc7cc8",
   "metadata": {},
   "source": [
    "# Step 5: Quick Profiling\n",
    "\n",
    "**Min/mean/max price, unique city count (set)**\n",
    "\n",
    "used `copilot` for the code generation"
   ]
  },
  {
   "cell_type": "code",
   "execution_count": 7,
   "id": "4ca9f743",
   "metadata": {},
   "outputs": [
    {
     "name": "stdout",
     "output_type": "stream",
     "text": [
      "Min price: 20\n",
      "Mean price: 276.50\n",
      "Max price: 1000\n",
      "Unique shipping cities (10): {'Los Angeles', 'Phoenix', 'Houston', 'Chicago', 'San Diego', 'San Antonio', 'San Jose', 'Dallas', 'Philadelphia', 'New York'}\n"
     ]
    }
   ],
   "source": [
    "# Quick profiling: min/mean/max price and unique shipping city count\n",
    "min_price = df['price'].min()\n",
    "mean_price = df['price'].mean()\n",
    "max_price = df['price'].max()\n",
    "unique_cities = set(df['shipping_city'])\n",
    "\n",
    "print(f\"Min price: {min_price}\")\n",
    "print(f\"Mean price: {mean_price:.2f}\")\n",
    "print(f\"Max price: {max_price}\")\n",
    "print(f\"Unique shipping cities ({len(unique_cities)}): {unique_cities}\")"
   ]
  },
  {
   "cell_type": "markdown",
   "id": "ba39847f",
   "metadata": {},
   "source": [
    "# Step 6:\tSpot the Grime\n",
    "\n",
    "**Identify at least three dirty data cases**\n",
    "\n",
    "used copilot for the code generation during the class"
   ]
  },
  {
   "cell_type": "code",
   "execution_count": 8,
   "id": "d0b48c46",
   "metadata": {},
   "outputs": [
    {
     "name": "stdout",
     "output_type": "stream",
     "text": [
      "Missing values per column:\n",
      " date              0\n",
      "customer_id       0\n",
      "product           0\n",
      "price             0\n",
      "quantity          0\n",
      "coupon_code       0\n",
      "shipping_city     0\n",
      "payment_method    0\n",
      "order_status      0\n",
      "delivery_date     0\n",
      "customer_email    0\n",
      "dtype: int64\n",
      "Number of duplicate rows: 0\n",
      "Number of transactions with invalid price: 0\n",
      "Number of transactions with invalid quantity: 0\n"
     ]
    }
   ],
   "source": [
    "# Identify at least three dirty data cases in the DataFrame\n",
    "\n",
    "# 1. Missing values in any column\n",
    "missing_values = df.isnull().sum()\n",
    "print(\"Missing values per column:\\n\", missing_values)\n",
    "\n",
    "# 2. Duplicate rows\n",
    "duplicate_rows = df[df.duplicated()]\n",
    "print(f\"Number of duplicate rows: {len(duplicate_rows)}\")\n",
    "\n",
    "# 3. Invalid prices (e.g., price <= 0)\n",
    "invalid_prices = df[df['price'] <= 0]\n",
    "print(f\"Number of transactions with invalid price: {len(invalid_prices)}\")\n",
    "\n",
    "# 4. Invalid quantities (e.g., quantity <= 0)\n",
    "invalid_quantities = df[df['quantity'] <= 0]\n",
    "print(f\"Number of transactions with invalid quantity: {len(invalid_quantities)}\")"
   ]
  },
  {
   "cell_type": "markdown",
   "id": "bee97f8f",
   "metadata": {},
   "source": [
    "# Step 7: \tCleaning Rules\n",
    "\n",
    "**Execute fixes inside clean(); show “before/after” counts**\n",
    "\n",
    "used copilot for code"
   ]
  },
  {
   "cell_type": "code",
   "execution_count": 9,
   "id": "d88e9a85",
   "metadata": {},
   "outputs": [
    {
     "name": "stdout",
     "output_type": "stream",
     "text": [
      "Transactions before cleaning: 500\n",
      "Transactions after cleaning: 500\n"
     ]
    }
   ],
   "source": [
    "def clean(transactions: list) -> list:\n",
    "    \"\"\"\n",
    "    Remove transactions with invalid price/quantity or missing fields.\n",
    "    Returns a new list of cleaned transactions.\n",
    "    \"\"\"\n",
    "    cleaned = []\n",
    "    for t in transactions:\n",
    "        # Check for valid price and quantity\n",
    "        if t.price is None or t.price <= 0:\n",
    "            continue\n",
    "        if t.quantity is None or t.quantity <= 0:\n",
    "            continue\n",
    "        # Check for missing required fields\n",
    "        required_fields = [\n",
    "            t.date, t.customer_id, t.product, t.coupon_code,\n",
    "            t.shipping_city, t.payment_method, t.order_status,\n",
    "            t.delivery_date, t.customer_email\n",
    "        ]\n",
    "        if any(field is None or field == \"\" for field in required_fields):\n",
    "            continue\n",
    "        cleaned.append(t)\n",
    "    return cleaned\n",
    "\n",
    "before_cleaning = len(transactions)\n",
    "cleaned_transactions = clean(transactions)\n",
    "after_cleaning = len(cleaned_transactions)\n",
    "\n",
    "print(f\"Transactions before cleaning: {before_cleaning}\")\n",
    "print(f\"Transactions after cleaning: {after_cleaning}\")"
   ]
  },
  {
   "cell_type": "markdown",
   "id": "5391bb09",
   "metadata": {},
   "source": [
    "# Step 8: Transformations\n",
    "\n",
    "**\tFor example: Parse coupon_code ➞ numeric discount (others apply)**\n",
    "\n",
    "used copilot for coding"
   ]
  },
  {
   "cell_type": "code",
   "execution_count": 10,
   "id": "b5146e1c",
   "metadata": {},
   "outputs": [
    {
     "name": "stdout",
     "output_type": "stream",
     "text": [
      "Transaction(2024-12-25, 9caaf8f0-00d3-4ad3-97ce-3d1eab60a213, Keyboard, 30, 1, BUY1GET1, New York, Gift Card, Cancelled, 2024-12-31, megan06@barber.info) | Discount: 50.0%\n",
      "Transaction(2024-09-29, 2ece07de-8e70-4263-a145-98071691c5ca, Smartwatch, 200, 1, FREESHIP, San Jose, Gift Card, Delivered, 2024-10-03, masonleah@yahoo.com) | Discount: 0.0%\n",
      "Transaction(2025-01-24, ed62c7bb-8800-4e3b-a07d-baff7e0eb2e0, Monitor, 150, 4, FREESHIP, New York, Gift Card, Pending, 2025-01-26, tylerjackson@gmail.com) | Discount: 0.0%\n",
      "Transaction(2024-11-15, e14d1f5a-3e8b-4e9c-a751-c9bef918eb13, Smartwatch, 200, 4, WELCOME20, Chicago, Credit Card, Returned, 2024-11-19, spearslinda@gates.biz) | Discount: 20.0%\n",
      "Transaction(2024-11-22, ba1c587c-7307-482d-b637-2221cc70c824, Laptop, 1000, 4, FREESHIP, San Antonio, Debit Card, Pending, 2024-11-29, wisejacob@fisher-adams.net) | Discount: 0.0%\n"
     ]
    }
   ],
   "source": [
    "# Transformation: Parse coupon_code to numeric discount and add as attribute\n",
    "\n",
    "def parse_discount(coupon_code: str) -> float:\n",
    "    \"\"\"\n",
    "    Convert coupon_code to a numeric discount percentage.\n",
    "    Example rules (customize as needed):\n",
    "      - 'SAVE10' or 'WELCOME10' -> 10%\n",
    "      - 'WELCOME20' -> 20%\n",
    "      - 'BUY1GET1' -> 50% (assuming buy one get one free)\n",
    "      - 'FREESHIP' -> 0% (no price discount)\n",
    "      - Unknown/empty -> 0%\n",
    "    \"\"\"\n",
    "    if not coupon_code or not isinstance(coupon_code, str):\n",
    "        return 0.0\n",
    "    code = coupon_code.upper()\n",
    "    if '10' in code:\n",
    "        return 10.0\n",
    "    if '20' in code:\n",
    "        return 20.0\n",
    "    if 'BUY1GET1' in code:\n",
    "        return 50.0\n",
    "    if 'FREESHIP' in code:\n",
    "        return 0.0\n",
    "    return 0.0\n",
    "\n",
    "# Add discount attribute to each cleaned transaction\n",
    "for t in cleaned_transactions:\n",
    "    t.discount = parse_discount(t.coupon_code)\n",
    "\n",
    "# Example: print first 5 transactions with their discount\n",
    "for t in cleaned_transactions[:5]:\n",
    "    print(f\"{t} | Discount: {t.discount}%\")"
   ]
  },
  {
   "cell_type": "markdown",
   "id": "695a6258",
   "metadata": {},
   "source": [
    "# Step 9: Feature Engineering\n",
    "**For example: Add days_since_purchase**\n",
    "\n",
    "used copilot for code\n"
   ]
  },
  {
   "cell_type": "code",
   "execution_count": 11,
   "id": "d99e40dd",
   "metadata": {},
   "outputs": [
    {
     "data": {
      "application/vnd.microsoft.datawrangler.viewer.v0+json": {
       "columns": [
        {
         "name": "index",
         "rawType": "int64",
         "type": "integer"
        },
        {
         "name": "date",
         "rawType": "datetime64[ns]",
         "type": "datetime"
        },
        {
         "name": "customer_id",
         "rawType": "object",
         "type": "string"
        },
        {
         "name": "product",
         "rawType": "object",
         "type": "string"
        },
        {
         "name": "price",
         "rawType": "int64",
         "type": "integer"
        },
        {
         "name": "quantity",
         "rawType": "int64",
         "type": "integer"
        },
        {
         "name": "coupon_code",
         "rawType": "object",
         "type": "string"
        },
        {
         "name": "shipping_city",
         "rawType": "object",
         "type": "string"
        },
        {
         "name": "payment_method",
         "rawType": "object",
         "type": "string"
        },
        {
         "name": "order_status",
         "rawType": "object",
         "type": "string"
        },
        {
         "name": "delivery_date",
         "rawType": "object",
         "type": "string"
        },
        {
         "name": "customer_email",
         "rawType": "object",
         "type": "string"
        },
        {
         "name": "discount",
         "rawType": "float64",
         "type": "float"
        },
        {
         "name": "days_since_purchase",
         "rawType": "int64",
         "type": "integer"
        },
        {
         "name": "total_value",
         "rawType": "float64",
         "type": "float"
        },
        {
         "name": "is_high_value_order",
         "rawType": "bool",
         "type": "boolean"
        }
       ],
       "ref": "21408f7c-74fe-48c3-9a89-75dff9662940",
       "rows": [
        [
         "0",
         "2024-12-25 00:00:00",
         "9caaf8f0-00d3-4ad3-97ce-3d1eab60a213",
         "Keyboard",
         "30",
         "1",
         "BUY1GET1",
         "New York",
         "Gift Card",
         "Cancelled",
         "2024-12-31",
         "megan06@barber.info",
         "50.0",
         "153",
         "15.0",
         "False"
        ],
        [
         "1",
         "2024-09-29 00:00:00",
         "2ece07de-8e70-4263-a145-98071691c5ca",
         "Smartwatch",
         "200",
         "1",
         "FREESHIP",
         "San Jose",
         "Gift Card",
         "Delivered",
         "2024-10-03",
         "masonleah@yahoo.com",
         "0.0",
         "240",
         "200.0",
         "False"
        ],
        [
         "2",
         "2025-01-24 00:00:00",
         "ed62c7bb-8800-4e3b-a07d-baff7e0eb2e0",
         "Monitor",
         "150",
         "4",
         "FREESHIP",
         "New York",
         "Gift Card",
         "Pending",
         "2025-01-26",
         "tylerjackson@gmail.com",
         "0.0",
         "123",
         "600.0",
         "False"
        ],
        [
         "3",
         "2024-11-15 00:00:00",
         "e14d1f5a-3e8b-4e9c-a751-c9bef918eb13",
         "Smartwatch",
         "200",
         "4",
         "WELCOME20",
         "Chicago",
         "Credit Card",
         "Returned",
         "2024-11-19",
         "spearslinda@gates.biz",
         "20.0",
         "193",
         "640.0",
         "False"
        ],
        [
         "4",
         "2024-11-22 00:00:00",
         "ba1c587c-7307-482d-b637-2221cc70c824",
         "Laptop",
         "1000",
         "4",
         "FREESHIP",
         "San Antonio",
         "Debit Card",
         "Pending",
         "2024-11-29",
         "wisejacob@fisher-adams.net",
         "0.0",
         "186",
         "4000.0",
         "True"
        ]
       ],
       "shape": {
        "columns": 15,
        "rows": 5
       }
      },
      "text/html": [
       "<div>\n",
       "<style scoped>\n",
       "    .dataframe tbody tr th:only-of-type {\n",
       "        vertical-align: middle;\n",
       "    }\n",
       "\n",
       "    .dataframe tbody tr th {\n",
       "        vertical-align: top;\n",
       "    }\n",
       "\n",
       "    .dataframe thead th {\n",
       "        text-align: right;\n",
       "    }\n",
       "</style>\n",
       "<table border=\"1\" class=\"dataframe\">\n",
       "  <thead>\n",
       "    <tr style=\"text-align: right;\">\n",
       "      <th></th>\n",
       "      <th>date</th>\n",
       "      <th>customer_id</th>\n",
       "      <th>product</th>\n",
       "      <th>price</th>\n",
       "      <th>quantity</th>\n",
       "      <th>coupon_code</th>\n",
       "      <th>shipping_city</th>\n",
       "      <th>payment_method</th>\n",
       "      <th>order_status</th>\n",
       "      <th>delivery_date</th>\n",
       "      <th>customer_email</th>\n",
       "      <th>discount</th>\n",
       "      <th>days_since_purchase</th>\n",
       "      <th>total_value</th>\n",
       "      <th>is_high_value_order</th>\n",
       "    </tr>\n",
       "  </thead>\n",
       "  <tbody>\n",
       "    <tr>\n",
       "      <th>0</th>\n",
       "      <td>2024-12-25</td>\n",
       "      <td>9caaf8f0-00d3-4ad3-97ce-3d1eab60a213</td>\n",
       "      <td>Keyboard</td>\n",
       "      <td>30</td>\n",
       "      <td>1</td>\n",
       "      <td>BUY1GET1</td>\n",
       "      <td>New York</td>\n",
       "      <td>Gift Card</td>\n",
       "      <td>Cancelled</td>\n",
       "      <td>2024-12-31</td>\n",
       "      <td>megan06@barber.info</td>\n",
       "      <td>50.0</td>\n",
       "      <td>153</td>\n",
       "      <td>15.0</td>\n",
       "      <td>False</td>\n",
       "    </tr>\n",
       "    <tr>\n",
       "      <th>1</th>\n",
       "      <td>2024-09-29</td>\n",
       "      <td>2ece07de-8e70-4263-a145-98071691c5ca</td>\n",
       "      <td>Smartwatch</td>\n",
       "      <td>200</td>\n",
       "      <td>1</td>\n",
       "      <td>FREESHIP</td>\n",
       "      <td>San Jose</td>\n",
       "      <td>Gift Card</td>\n",
       "      <td>Delivered</td>\n",
       "      <td>2024-10-03</td>\n",
       "      <td>masonleah@yahoo.com</td>\n",
       "      <td>0.0</td>\n",
       "      <td>240</td>\n",
       "      <td>200.0</td>\n",
       "      <td>False</td>\n",
       "    </tr>\n",
       "    <tr>\n",
       "      <th>2</th>\n",
       "      <td>2025-01-24</td>\n",
       "      <td>ed62c7bb-8800-4e3b-a07d-baff7e0eb2e0</td>\n",
       "      <td>Monitor</td>\n",
       "      <td>150</td>\n",
       "      <td>4</td>\n",
       "      <td>FREESHIP</td>\n",
       "      <td>New York</td>\n",
       "      <td>Gift Card</td>\n",
       "      <td>Pending</td>\n",
       "      <td>2025-01-26</td>\n",
       "      <td>tylerjackson@gmail.com</td>\n",
       "      <td>0.0</td>\n",
       "      <td>123</td>\n",
       "      <td>600.0</td>\n",
       "      <td>False</td>\n",
       "    </tr>\n",
       "    <tr>\n",
       "      <th>3</th>\n",
       "      <td>2024-11-15</td>\n",
       "      <td>e14d1f5a-3e8b-4e9c-a751-c9bef918eb13</td>\n",
       "      <td>Smartwatch</td>\n",
       "      <td>200</td>\n",
       "      <td>4</td>\n",
       "      <td>WELCOME20</td>\n",
       "      <td>Chicago</td>\n",
       "      <td>Credit Card</td>\n",
       "      <td>Returned</td>\n",
       "      <td>2024-11-19</td>\n",
       "      <td>spearslinda@gates.biz</td>\n",
       "      <td>20.0</td>\n",
       "      <td>193</td>\n",
       "      <td>640.0</td>\n",
       "      <td>False</td>\n",
       "    </tr>\n",
       "    <tr>\n",
       "      <th>4</th>\n",
       "      <td>2024-11-22</td>\n",
       "      <td>ba1c587c-7307-482d-b637-2221cc70c824</td>\n",
       "      <td>Laptop</td>\n",
       "      <td>1000</td>\n",
       "      <td>4</td>\n",
       "      <td>FREESHIP</td>\n",
       "      <td>San Antonio</td>\n",
       "      <td>Debit Card</td>\n",
       "      <td>Pending</td>\n",
       "      <td>2024-11-29</td>\n",
       "      <td>wisejacob@fisher-adams.net</td>\n",
       "      <td>0.0</td>\n",
       "      <td>186</td>\n",
       "      <td>4000.0</td>\n",
       "      <td>True</td>\n",
       "    </tr>\n",
       "  </tbody>\n",
       "</table>\n",
       "</div>"
      ],
      "text/plain": [
       "        date                           customer_id     product  price  \\\n",
       "0 2024-12-25  9caaf8f0-00d3-4ad3-97ce-3d1eab60a213    Keyboard     30   \n",
       "1 2024-09-29  2ece07de-8e70-4263-a145-98071691c5ca  Smartwatch    200   \n",
       "2 2025-01-24  ed62c7bb-8800-4e3b-a07d-baff7e0eb2e0     Monitor    150   \n",
       "3 2024-11-15  e14d1f5a-3e8b-4e9c-a751-c9bef918eb13  Smartwatch    200   \n",
       "4 2024-11-22  ba1c587c-7307-482d-b637-2221cc70c824      Laptop   1000   \n",
       "\n",
       "   quantity coupon_code shipping_city payment_method order_status  \\\n",
       "0         1    BUY1GET1      New York      Gift Card    Cancelled   \n",
       "1         1    FREESHIP      San Jose      Gift Card    Delivered   \n",
       "2         4    FREESHIP      New York      Gift Card      Pending   \n",
       "3         4   WELCOME20       Chicago    Credit Card     Returned   \n",
       "4         4    FREESHIP   San Antonio     Debit Card      Pending   \n",
       "\n",
       "  delivery_date              customer_email  discount  days_since_purchase  \\\n",
       "0    2024-12-31         megan06@barber.info      50.0                  153   \n",
       "1    2024-10-03         masonleah@yahoo.com       0.0                  240   \n",
       "2    2025-01-26      tylerjackson@gmail.com       0.0                  123   \n",
       "3    2024-11-19       spearslinda@gates.biz      20.0                  193   \n",
       "4    2024-11-29  wisejacob@fisher-adams.net       0.0                  186   \n",
       "\n",
       "   total_value  is_high_value_order  \n",
       "0         15.0                False  \n",
       "1        200.0                False  \n",
       "2        600.0                False  \n",
       "3        640.0                False  \n",
       "4       4000.0                 True  "
      ]
     },
     "execution_count": 11,
     "metadata": {},
     "output_type": "execute_result"
    }
   ],
   "source": [
    "# Feature Engineering: Add 'is_high_value_order' column (True if total_value > $1000)\n",
    "\n",
    "import datetime\n",
    "\n",
    "# Set today's date\n",
    "today = pd.Timestamp(datetime.date.today())\n",
    "\n",
    "# Convert cleaned_transactions (list of Transaction objects) to DataFrame\n",
    "cleaned_df = pd.DataFrame([t.__dict__ for t in cleaned_transactions])\n",
    "\n",
    "# Ensure 'date' column is datetime\n",
    "cleaned_df['date'] = pd.to_datetime(cleaned_df['date'])\n",
    "\n",
    "# Add 'days_since_purchase'\n",
    "cleaned_df['days_since_purchase'] = (today - cleaned_df['date']).dt.days\n",
    "\n",
    "# Add 'total_value' (price * quantity * (1 - discount/100))\n",
    "cleaned_df['total_value'] = cleaned_df['price'] * cleaned_df['quantity'] * (1 - cleaned_df['discount'] / 100)\n",
    "\n",
    "# Add a boolean column indicating if the order is high value\n",
    "cleaned_df['is_high_value_order'] = cleaned_df['total_value'] > 1000\n",
    "\n",
    "# Show first 5 rows with the new columns\n",
    "cleaned_df.head()"
   ]
  },
  {
   "cell_type": "markdown",
   "id": "710d0dbc",
   "metadata": {},
   "source": [
    "# Step 10: Mini-Aggregation\n"
   ]
  },
  {
   "cell_type": "code",
   "execution_count": 12,
   "id": "f24e6d2b",
   "metadata": {},
   "outputs": [
    {
     "name": "stdout",
     "output_type": "stream",
     "text": [
      "Average order value per payment method:\n",
      "Credit Card: $652.31\n",
      "Debit Card: $626.72\n",
      "Gift Card: $625.73\n",
      "Net Banking: $689.11\n",
      "PayPal: $791.05\n"
     ]
    }
   ],
   "source": [
    "# Calculate average order value per payment_method using pandas groupby\n",
    "avg_order_value_by_payment = cleaned_df.groupby('payment_method')['total_value'].mean().to_dict()\n",
    "print(\"Average order value per payment method:\")\n",
    "for method, avg_value in avg_order_value_by_payment.items():\n",
    "    print(f\"{method}: ${avg_value:.2f}\")"
   ]
  },
  {
   "cell_type": "markdown",
   "id": "583cd061",
   "metadata": {},
   "source": [
    "# Step 11:Serialization Checkpoint\n",
    "\n",
    "**Save cleaned data to JSON and Parquet**"
   ]
  },
  {
   "cell_type": "code",
   "execution_count": 7,
   "id": "72b7b8f3",
   "metadata": {},
   "outputs": [
    {
     "name": "stdout",
     "output_type": "stream",
     "text": [
      "Data saved to CSV at ../data\\cleaned_data.csv\n",
      "Data saved to JSON at ../data\\cleaned_data.json\n",
      "Data saved to Parquet at ../data\\cleaned_data.parquet\n"
     ]
    }
   ],
   "source": [
    "\n",
    "import os\n",
    "\n",
    "\n",
    "# Example cleaned DataFrame (replace this with your actual cleaned data)\n",
    "df = pd.read_csv(r'C:\\Users\\habha\\MLprogramming_PROG8245\\Lab2_Ecommerce_Data_Collection_and_Preprocessing\\data\\enhanced_ecommerce_transactions.csv')\n",
    "# Clean the DataFrame (if not already done)\n",
    "\n",
    "# Define the target directory (relative to the current working directory)\n",
    "target_directory = \"../data\"\n",
    "\n",
    "# Ensure the directory exists\n",
    "# os.makedirs(target_directory, exist_ok=True)\n",
    "# save clean csv file\n",
    "cleaned_csv_path = os.path.join(target_directory, \"cleaned_data.csv\")\n",
    "df.to_csv(cleaned_csv_path, index=False)\n",
    "print(f\"Data saved to CSV at {cleaned_csv_path}\")\n",
    "\n",
    "# Save as JSON\n",
    "cleaned_json_path = os.path.join(target_directory, \"cleaned_data.json\")\n",
    "df.to_json(cleaned_json_path, orient='records', lines=False)\n",
    "print(f\"Data saved to JSON at {cleaned_json_path}\")\n",
    "\n",
    "# Save as Parquet\n",
    "cleaned_parquet_path = os.path.join(target_directory, \"cleaned_data.parquet\")\n",
    "df.to_parquet(cleaned_parquet_path, index=False)\n",
    "print(f\"Data saved to Parquet at {cleaned_parquet_path}\")"
   ]
  },
  {
   "cell_type": "markdown",
   "id": "26c7d9c4",
   "metadata": {},
   "source": [
    "# Step 12: Soft Interview Reflection\t\n",
    "**Using Object-Oriented Programming made data management easier by grouping related data and operations into single structure. The Transaction class allowed me to organize data consistently,simplify debugging, and make future feature enhancements more straightforward.**"
   ]
  },
  {
   "cell_type": "markdown",
   "id": "5da5ab3f",
   "metadata": {},
   "source": [
    "# Data-Dictionary Section"
   ]
  },
  {
   "cell_type": "markdown",
   "id": "6f3939ef",
   "metadata": {},
   "source": [
    "**Merge field definitions from the primary CSV header and the secondary metadata source.**\n",
    "**Present as a tidy Markdown table including the new columns, for example: Field, Type, Description, Source.**"
   ]
  },
  {
   "cell_type": "code",
   "execution_count": null,
   "id": "3898cddf",
   "metadata": {
    "vscode": {
     "languageId": "markdown"
    }
   },
   "outputs": [
    {
     "name": "stdout",
     "output_type": "stream",
     "text": [
      "| Field               | Type     | Description                                       | Source                 |\n",
      "|---------------------|----------|---------------------------------------------------|------------------------|\n",
      "| date                 | Date     | Transaction date                                   | Primary CSV          |\n",
      "| customer_id          | String   | Unique identifier for customers                    | Primary CSV          |\n",
      "| customer_email       | String   | Email address of the customer                      | Primary CSV          |\n",
      "| product              | String   | Name of the purchased product                      | Primary CSV          |\n",
      "| price                | Float    | Price of the product                               | Primary CSV          |\n",
      "| quantity             | Integer  | Quantity of the product purchased                  | Primary CSV          |\n",
      "| coupon_code          | String   | Applied discount coupon code                       | Primary CSV          |\n",
      "| shipping_city        | String   | City to which the order was shipped                | Primary CSV          |\n",
      "| delivery_date        | Date     | Estimated delivery date for the order              | Primary CSV          |\n",
      "| discount_percent     | Float    | Discount derived from coupon code                  | Primary CSV          |\n",
      "| days_since_purchase  | Integer  | Days elapsed since the purchase                    | Primary CSV          |\n",
      "| total_value          | Float    | Total value of the order                           | Primary CSV          |\n",
      "| is_high_value_order  | Boolean  | Whether the order is a high-value transaction      | Primary CSV          |\n",
      "| region               | String   | Region of the shipping city                        | Metadata             |\n",
      "| category             | String   | Product category                                   | Metadata             |\n",
      "| brand                | String   | Brand of the product                               | Metadata             |\n"
     ]
    }
   ],
   "source": [
    "import json\n",
    "\n",
    "# Load metadata\n",
    "with open(\"../data/secondary_metadata.json\", \"r\") as f:\n",
    "    metadata = json.load(f)\n",
    "\n",
    "# Extract product catalog and city lookups\n",
    "product_catalog = {entry[\"product\"]: {\"category\": entry[\"category\"], \"brand\": entry[\"brand\"]} for entry in metadata[\"product_catalog\"]}\n",
    "city_regions = {entry[\"city\"]: entry[\"region\"] for entry in metadata[\"city_lookups\"]}\n",
    "\n",
    "# Define primary fields\n",
    "primary_fields = [\n",
    "    {\"name\": \"date\", \"type\": \"Date\", \"description\": \"Transaction date\"},\n",
    "    {\"name\": \"customer_id\", \"type\": \"String\", \"description\": \"Unique identifier for customers\"},\n",
    "    {\"name\": \"customer_email\", \"type\": \"String\", \"description\": \"Email address of the customer\"},\n",
    "    {\"name\": \"product\", \"type\": \"String\", \"description\": \"Name of the purchased product\"},\n",
    "    {\"name\": \"price\", \"type\": \"Float\", \"description\": \"Price of the product\"},\n",
    "    {\"name\": \"quantity\", \"type\": \"Integer\", \"description\": \"Quantity of the product purchased\"},\n",
    "    {\"name\": \"coupon_code\", \"type\": \"String\", \"description\": \"Applied discount coupon code\"},\n",
    "    {\"name\": \"shipping_city\", \"type\": \"String\", \"description\": \"City to which the order was shipped\"},\n",
    "    {\"name\": \"delivery_date\", \"type\": \"Date\", \"description\": \"Estimated delivery date for the order\"},\n",
    "    {\"name\": \"discount_percent\", \"type\": \"Float\", \"description\": \"Discount derived from coupon code\"},\n",
    "    {\"name\": \"days_since_purchase\", \"type\": \"Integer\", \"description\": \"Days elapsed since the purchase\"},\n",
    "    {\"name\": \"total_value\", \"type\": \"Float\", \"description\": \"Total value of the order\"},\n",
    "    {\"name\": \"is_high_value_order\", \"type\": \"Boolean\", \"description\": \"Whether the order is a high-value transaction\"}\n",
    "]\n",
    "\n",
    "# Define secondary metadata fields\n",
    "metadata_fields = {\n",
    "    \"region\": {\"type\": \"String\", \"description\": \"Region of the shipping city\"},\n",
    "    \"category\": {\"type\": \"String\", \"description\": \"Product category\"},\n",
    "    \"brand\": {\"type\": \"String\", \"description\": \"Brand of the product\"}\n",
    "}\n",
    "\n",
    "# Merge Field Definitions\n",
    "def merge_field_definitions(primary_fields, metadata_fields):\n",
    "    combined_fields = []\n",
    "    for field in primary_fields:\n",
    "        combined_fields.append({\n",
    "            \"Field\": field[\"name\"],\n",
    "            \"Type\": field[\"type\"],\n",
    "            \"Description\": field[\"description\"],\n",
    "            \"Source\": \"Primary CSV\"\n",
    "        })\n",
    "\n",
    "    for field, details in metadata_fields.items():\n",
    "        combined_fields.append({\n",
    "            \"Field\": field,\n",
    "            \"Type\": details[\"type\"],\n",
    "            \"Description\": details[\"description\"],\n",
    "            \"Source\": \"Metadata\"\n",
    "        })\n",
    "\n",
    "    return combined_fields\n",
    "\n",
    "# Merge definitions\n",
    "merged_definitions = merge_field_definitions(primary_fields, metadata_fields)\n",
    "\n",
    "# Print as Markdown Table\n",
    "print(\"| Field               | Type     | Description                                       | Source                 |\")\n",
    "print(\"|---------------------|----------|---------------------------------------------------|------------------------|\")\n",
    "for field in merged_definitions:\n",
    "    print(f\"| {field['Field']:20} | {field['Type']:8} | {field['Description']:50} | {field['Source']:20} |\")\n"
   ]
  }
 ],
 "metadata": {
  "kernelspec": {
   "display_name": "venv",
   "language": "python",
   "name": "python3"
  },
  "language_info": {
   "codemirror_mode": {
    "name": "ipython",
    "version": 3
   },
   "file_extension": ".py",
   "mimetype": "text/x-python",
   "name": "python",
   "nbconvert_exporter": "python",
   "pygments_lexer": "ipython3",
   "version": "3.12.7"
  }
 },
 "nbformat": 4,
 "nbformat_minor": 5
}
